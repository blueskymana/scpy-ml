{
 "cells": [
  {
   "cell_type": "code",
   "execution_count": 8,
   "metadata": {},
   "outputs": [
    {
     "name": "stdout",
     "output_type": "stream",
     "text": [
      "True\n"
     ]
    },
    {
     "data": {
      "text/plain": [
       "u'time'"
      ]
     },
     "execution_count": 8,
     "metadata": {},
     "output_type": "execute_result"
    }
   ],
   "source": [
    "import matplotlib.pyplot as plt\n",
    "\n",
    "fig = plt.figure()\n",
    "ax = fig.add_axes([0.15, 0.1, 0.7, 0.3])\n",
    "line = ax.plot([1, 2, 3], [1, 2, 1])[0]\n",
    "print line is ax.lines[0]\n",
    "\n",
    "ax.set_xlabel(\"time\")\n",
    "ax.get_xaxis().get_label().get_text()"
   ]
  },
  {
   "cell_type": "code",
   "execution_count": 10,
   "metadata": {
    "collapsed": true
   },
   "outputs": [],
   "source": [
    "fig = plt.figure()\n",
    "fig.patch.set_color(\"g\")\n",
    "fig.canvas.draw()"
   ]
  },
  {
   "cell_type": "code",
   "execution_count": 34,
   "metadata": {},
   "outputs": [
    {
     "data": {
      "text/plain": [
       "[None, None]"
      ]
     },
     "execution_count": 34,
     "metadata": {},
     "output_type": "execute_result"
    }
   ],
   "source": [
    "# alpha animated axes clip_box\n",
    "# contains figure label picker transform visible zorder\n",
    "import matplotlib.pyplot as plt\n",
    "\n",
    "fig = plt.figure()\n",
    "fig.patch.set_color(\"magenta\")\n",
    "line = plt.plot([1, 2, 3, 2, 1], lw=4)[0]\n",
    "#line.set_alpha(0.5)\n",
    "line.set(alpha=0.5, zorder=2)\n",
    "#plt.getp(fig.patch)"
   ]
  },
  {
   "cell_type": "code",
   "execution_count": 40,
   "metadata": {},
   "outputs": [
    {
     "data": {
      "image/png": "[encoded data removed]",
      "text/plain": [
       "<matplotlib.figure.Figure at 0x118fddfd0>"
      ]
     },
     "metadata": {},
     "output_type": "display_data"
    }
   ],
   "source": [
    "fig = plt.figure()\n",
    "ax1 = fig.add_subplot(211)\n",
    "ax2 = fig.add_axes([0.1, 0.1, 0.7, 0.3])\n",
    "# print ax1 in fig.axes and ax2 in fig.axes\n",
    "for ax in fig.axes:\n",
    "    ax.grid(True)\n",
    "plt.show()"
   ]
  },
  {
   "cell_type": "code",
   "execution_count": 47,
   "metadata": {
    "collapsed": true
   },
   "outputs": [],
   "source": [
    "\n",
    "\n",
    "#from matplotlib.lines import line2D\n",
    "from matplotlib.lines import Line2D\n",
    "import matplotlib.pyplot as plt\n",
    "fig = plt.figure()\n",
    "\n",
    "\n",
    "line1 = Line2D([0, 1], [0, 1], transform=fig.transFigure, figure=fig, color=\"r\")\n",
    "line2 = Line2D([0, 1], [1, 0], transform=fig.transFigure, figure=fig, color=\"g\")\n",
    "\n",
    "fig.lines.extend([line1, line2])\n"
   ]
  },
  {
   "cell_type": "code",
   "execution_count": 73,
   "metadata": {},
   "outputs": [
    {
     "data": {
      "image/png": "[encoded data removed]",
      "text/plain": [
       "<matplotlib.figure.Figure at 0x1198d3ad0>"
      ]
     },
     "metadata": {},
     "output_type": "display_data"
    }
   ],
   "source": [
    "# 4.2.3 Axes container.\n",
    "import numpy as np\n",
    "\n",
    "#fig = plt.figure()\n",
    "#ax = fig.add_subplot(111)\n",
    "#ax.patch.set_facecolor(\"red\")\n",
    "#ax.patch.set_alpha(0.4)\n",
    "#plt.getp(fig.lines)\n",
    "\n",
    "#x, y = np.random.rand(2, 10)\n",
    "#line = ax.plot(x, y, '-', color='yellow', lw=2)[0]\n",
    "#line is ax.lines[0]\n",
    "\n",
    "fig1, ax = plt.subplots()\n",
    "n, bins, rects = ax.hist(np.random.randn(1000), 50, facecolor=\"red\")\n",
    "plt.show()"
   ]
  },
  {
   "cell_type": "code",
   "execution_count": 85,
   "metadata": {},
   "outputs": [
    {
     "name": "stdout",
     "output_type": "stream",
     "text": [
      "<matplotlib.collections.PathCollection object at 0x118dba050> True\n"
     ]
    },
    {
     "data": {
      "image/png": "[encoded data removed]",
      "text/plain": [
       "<matplotlib.figure.Figure at 0x118dba690>"
      ]
     },
     "metadata": {},
     "output_type": "display_data"
    }
   ],
   "source": [
    "\n",
    "# fig, ax = plt.subplots()\n",
    "# rect = plt.Rectangle((1, 1), width=1, height=1)\n",
    "# ax.add_patch(rect)\n",
    "# rect.get_axes() is ax\n",
    "\n",
    "# print ax.get_xlim()\n",
    "# print ax.dataLim._get_bounds()\n",
    "# ax.autoscale_view()\n",
    "# print ax.get_xlim()\n",
    "\n",
    "fig, ax = plt.subplots()\n",
    "t = ax.scatter(np.random.rand(20), np.random.rand(20))\n",
    "print t, t in ax.collections\n",
    "plt.show()"
   ]
  },
  {
   "cell_type": "code",
   "execution_count": 110,
   "metadata": {},
   "outputs": [
    {
     "name": "stdout",
     "output_type": "stream",
     "text": [
      "<matplotlib.ticker.NullLocator object at 0x118deab10>\n",
      "<matplotlib.ticker.AutoLocator object at 0x119826cd0>\n"
     ]
    },
    {
     "data": {
      "image/png": "[encoded data removed]",
      "text/plain": [
       "<matplotlib.figure.Figure at 0x118eb5dd0>"
      ]
     },
     "execution_count": 110,
     "metadata": {},
     "output_type": "execute_result"
    }
   ],
   "source": [
    "# 4.2.4 Axis Container\n",
    "\n",
    "fig, ax = plt.subplots()\n",
    "axis = ax.xaxis\n",
    "\n",
    "\n",
    "axis.get_ticklocs()\n",
    "axis.get_ticklabels()\n",
    "[x.get_text() for x in axis.get_ticklabels()]\n",
    "axis.get_ticklines()\n",
    "axis.get_ticklines(minor=True)\n",
    "\n",
    "# for label in axis.get_ticklabels():\n",
    "#     label.set_color('red')\n",
    "#     label.set_rotation(45)\n",
    "#     label.set_fontsize(14)\n",
    "    \n",
    "# for line in axis.get_ticklines():\n",
    "#     line.set_color('green')\n",
    "#     #line.set_markersize()\n",
    "#     line.set_markeredgewidth(3)\n",
    "\n",
    "plt.xticks(fontsize=16, color=\"red\", rotation=45)\n",
    "\n",
    "print axis.get_minor_locator()\n",
    "print axis.get_major_locator()\n",
    "fig"
   ]
  },
  {
   "cell_type": "code",
   "execution_count": 118,
   "metadata": {
    "scrolled": true
   },
   "outputs": [
    {
     "data": {
      "image/png": "[encoded data removed]",
      "text/plain": [
       "<matplotlib.figure.Figure at 0x119237690>"
      ]
     },
     "execution_count": 118,
     "metadata": {},
     "output_type": "execute_result"
    }
   ],
   "source": [
    "from fractions import Fraction\n",
    "from matplotlib.ticker import MultipleLocator, FuncFormatter\n",
    "\n",
    "x = np.arange(0, 4*np.pi, 0.01)\n",
    "fig, ax = plt.subplots(figsize=(8, 4))\n",
    "plt.plot(x, np.sin(x), x, np.cos(x))\n",
    "\n",
    "def pi_formatter(x, pos):\n",
    "    frac = Fraction(int(np.round(x / (np.pi/4))), 4)\n",
    "    d, n = frac.denominator, frac.numerator\n",
    "    if frac == 0:\n",
    "        return '0'\n",
    "    elif frac == 1:\n",
    "        return '$\\pi$'\n",
    "    elif d == 1:\n",
    "        return r'${%d} \\pi$' % n\n",
    "    elif n == 1:\n",
    "        return r\"$\\frac{\\pi}{%d}$\" % d\n",
    "    return r\"$\\frac{%d \\pi}{%d}$\" % (n, d)\n",
    "\n",
    "plt.ylim(-1.5, 1.5)\n",
    "plt.xlim(0, np.max(x))\n",
    "\n",
    "plt.subplots_adjust(bottom = 0.15)\n",
    "\n",
    "plt.grid()\n",
    "\n",
    "ax.xaxis.set_major_locator(MultipleLocator(np.pi/4))\n",
    "\n",
    "ax.xaxis.set_major_formatter(FuncFormatter(pi_formatter))\n",
    "ax.xaxis.set_minor_locator(MultipleLocator(np.pi/20))\n",
    "\n",
    "for tick in ax.xaxis.get_major_ticks():\n",
    "    tick.label.set_fontsize(16)\n",
    "fig"
   ]
  },
  {
   "cell_type": "code",
   "execution_count": 131,
   "metadata": {
    "collapsed": true
   },
   "outputs": [],
   "source": [
    "!python /Users/Arslan/anaconda/bin/python-ml/scpy2/nbmagics.py"
   ]
  }
 ],
 "metadata": {
  "kernelspec": {
   "display_name": "Python 2",
   "language": "python",
   "name": "python2"
  },
  "language_info": {
   "codemirror_mode": {
    "name": "ipython",
    "version": 2
   },
   "file_extension": ".py",
   "mimetype": "text/x-python",
   "name": "python",
   "nbconvert_exporter": "python",
   "pygments_lexer": "ipython2",
   "version": "2.7.13"
  }
 },
 "nbformat": 4,
 "nbformat_minor": 2
}
