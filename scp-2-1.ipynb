{
 "cells": [
  {
   "cell_type": "code",
   "execution_count": 1,
   "metadata": {},
   "outputs": [
    {
     "name": "stdout",
     "output_type": "stream",
     "text": [
      "1.12.1\n"
     ]
    }
   ],
   "source": [
    "# introduction.\n",
    "import numpy\n",
    "print numpy.__version__"
   ]
  },
  {
   "cell_type": "code",
   "execution_count": 14,
   "metadata": {},
   "outputs": [
    {
     "name": "stdout",
     "output_type": "stream",
     "text": [
      "b: [5 6 7 8]\n",
      "c: [[ 1  2  3  4]\n",
      " [ 4  5  6  7]\n",
      " [ 7  8  9 10]]\n",
      "(4,) (4,) (3, 4)\n",
      "c: [[ 1  2  3]\n",
      " [ 4  4  5]\n",
      " [ 6  7  7]\n",
      " [ 8  9 10]]\n",
      "c: [[ 1  2  3  4  4  5]\n",
      " [ 6  7  7  8  9 10]]\n",
      "d: [[1 2]\n",
      " [3 4]]\n",
      "d [[  1 100]\n",
      " [  3   4]]\n"
     ]
    }
   ],
   "source": [
    "# 2.1.1 creation.\n",
    "import numpy as np\n",
    "\n",
    "a = np.array([1, 2, 3, 4])\n",
    "b = np.array([5, 6, 7, 8])\n",
    "c = np.array([[1, 2, 3, 4], [4, 5, 6, 7], [7, 8, 9, 10]])\n",
    "\n",
    "print 'b:', b\n",
    "print 'c:', c\n",
    "\n",
    "# tuple.\n",
    "\n",
    "print a.shape, b.shape, c.shape\n",
    "\n",
    "# a shape attribute has only one, so it is a one-d array.\n",
    "\n",
    "# The 0th axis and 1th axis.\n",
    "c.shape = 4, 3\n",
    "print 'c:', c\n",
    "\n",
    "# -1 automatically compute axis length\n",
    "c.shape = (2, -1)\n",
    "print 'c:', c\n",
    "\n",
    "d = a.reshape(2, 2)\n",
    "print 'd:', d\n",
    "\n",
    "a[1] = 100\n",
    "print 'd', d"
   ]
  },
  {
   "cell_type": "code",
   "execution_count": 77,
   "metadata": {},
   "outputs": [
    {
     "name": "stdout",
     "output_type": "stream",
     "text": [
      "int64\n",
      "int32 float64 complex128\n",
      "[12, 'd', 'float64', 'float_', 'float', 'f8', 'double', 'Float64']\n",
      "float64\n"
     ]
    }
   ],
   "source": [
    "# 2.1.2 element type\n",
    "import numpy as np\n",
    "\n",
    "c = np.array([1, 2, 3, 4])\n",
    "print c.dtype\n",
    "\n",
    "ai32 = np.array([1, 2, 3, 4], dtype=np.int32)\n",
    "af = np.array([1, 2, 3, 4], dtype=float)\n",
    "ac = np.array([1, 2, 3, 4], dtype=complex)\n",
    "\n",
    "print ai32.dtype, af.dtype, ac.dtype\n",
    "\n",
    "# float and complex are internal type and np.int32 is numpy type.\n",
    "# np.float64 = float\n",
    "# np [float16, float32, float64, float128]\n",
    "\n",
    "# all types.\n",
    "#set(np.typeDict.values())\n",
    "# np.complex = complex128\n",
    "\n",
    "print [key for key, value in np.typeDict.items() if value is np.float64]\n",
    "\n",
    "# print ai32.dtype.type\n",
    "# print ai32.dtype\n",
    "# ai32.dtype = 'f8'\n",
    "# print ai32.dtype\n",
    "\n",
    "# a = np.int16(200)\n",
    "# print a*a\n",
    "\n",
    "# v1 = 3.14\n",
    "# v2 = np.float64(v1)\n",
    "\n",
    "# %timeit v1*v1\n",
    "# %timeit v2*v2\n",
    "\n",
    "# difference of reshape dtype and astype\n",
    "# t1 = np.array([1, 2, 3, 4], dtype=np.float)\n",
    "# t2 = np.array([1, 2, 3, 4], dtype=np.complex)\n",
    "\n",
    "# t3 = t1.astype(np.int32)\n",
    "# t4 = t2.astype(np.complex64)\n",
    "\n",
    "a = np.array([1], dtype=np.float)\n",
    "print a.dtype\n"
   ]
  },
  {
   "cell_type": "code",
   "execution_count": 86,
   "metadata": {},
   "outputs": [
    {
     "data": {
      "text/plain": [
       "array([[  1.,   2.,   3.,   4.,   5.,   6.,   7.,   8.,   9.],\n",
       "       [  2.,   4.,   6.,   8.,  10.,  12.,  14.,  16.,  18.],\n",
       "       [  3.,   6.,   9.,  12.,  15.,  18.,  21.,  24.,  27.],\n",
       "       [  4.,   8.,  12.,  16.,  20.,  24.,  28.,  32.,  36.],\n",
       "       [  5.,  10.,  15.,  20.,  25.,  30.,  35.,  40.,  45.],\n",
       "       [  6.,  12.,  18.,  24.,  30.,  36.,  42.,  48.,  54.],\n",
       "       [  7.,  14.,  21.,  28.,  35.,  42.,  49.,  56.,  63.],\n",
       "       [  8.,  16.,  24.,  32.,  40.,  48.,  56.,  64.,  72.],\n",
       "       [  9.,  18.,  27.,  36.,  45.,  54.,  63.,  72.,  81.]])"
      ]
     },
     "execution_count": 86,
     "metadata": {},
     "output_type": "execute_result"
    }
   ],
   "source": [
    "# 2.1.3 automaticaly generate array.\n",
    "import numpy as np\n",
    "\n",
    "# [1, 2, 3, 4] sequence object\n",
    "# print np.arange(0, 1, 0.1)\n",
    "# print np.linspace(0, 1, 10)\n",
    "# print np.linspace(0, 1, 10, endpoint=False)\n",
    "\n",
    "# print np.logspace(0, 2, 5)\n",
    "\n",
    "# print np.logspace(0, 1, 12, base=2, endpoint=False)\n",
    "\n",
    "# np.empty((2, 3), np.int)\n",
    "# np.zeros(4, np.int)\n",
    "\n",
    "# np.full((3, 4), np.pi)\n",
    "# np.ones((3, 4), np.int)\n",
    "\n",
    "# a = np.empty((2, 4), np.int)\n",
    "# np.ones_like(a)\n",
    "# np.ones(a.shape, a.dtype)\n",
    "\n",
    "s = \"abcdefgh\"\n",
    "np.fromstring(s, dtype=np.int8)\n",
    "\n",
    "#print 98*256 + 97\n",
    "np.fromstring(s, dtype=np.int16)\n",
    "np.fromstring(s, dtype=np.float)\n",
    "\n",
    "buf = np.frombuffer(s, dtype=np.int16)\n",
    "# buf[1] = 16\n",
    "\n",
    "def func(i, j):\n",
    "    return i % 4 + 1\n",
    "\n",
    "np.fromfunction(func, (10,2))\n",
    "\n",
    "def func2(i, j):\n",
    "    return (i + 1) * (j + 1)\n",
    "\n",
    "np.fromfunction(func2, (9, 9))\n"
   ]
  },
  {
   "cell_type": "code",
   "execution_count": 155,
   "metadata": {},
   "outputs": [
    {
     "data": {
      "text/plain": [
       "array([6, 7])"
      ]
     },
     "execution_count": 155,
     "metadata": {},
     "output_type": "execute_result"
    }
   ],
   "source": [
    "# 2.1.4 access elements\n",
    "import numpy as np\n",
    "import random\n",
    "\n",
    "\n",
    "# a = np.arange(10)\n",
    "# a[5]\n",
    "# a[3:5]\n",
    "# a[3:-2]\n",
    "# a[1:-1:2]\n",
    "# a[::-1]\n",
    "# a[5:1:-2]\n",
    "\n",
    "# a[2:4] = 100, 101\n",
    "# a\n",
    "# b = a[3:7]\n",
    "# b[2] = -10\n",
    "# a\n",
    "\n",
    "# x = np.arange(10, 1, -1)\n",
    "# print x\n",
    "\n",
    "# a = x[[3, 3, 1, 8]]\n",
    "# b = x[[3, 3, -3, 8]]\n",
    "\n",
    "# b[2] = 100\n",
    "# x\n",
    "\n",
    "# x[[3, 5, 1]] = -1, -2, -3\n",
    "# x\n",
    "\n",
    "# x = np.arange(10, 1, -1)\n",
    "# x[np.array([[3, 3, 1, 8], [3, 3, -3, 8]])]\n",
    "\n",
    "# x[[3, 3, 1, 8, 3, 3, -3, 8]].reshape(2, 4)\n",
    "\n",
    "# x = np.arange(5, 0, -1)\n",
    "\n",
    "# y = x[np.array([True, False, True, True, False])]\n",
    "# y[0] = -3\n",
    "# b = y\n",
    "# b [1] = 100\n",
    "# y\n",
    "\n",
    "x = np.random.randint(0, 10, 6)\n",
    "x[x > 5]"
   ]
  },
  {
   "cell_type": "code",
   "execution_count": 194,
   "metadata": {},
   "outputs": [
    {
     "data": {
      "text/plain": [
       "array([[[  0,   0,   0],\n",
       "        [255,   0,   0],\n",
       "        [  0, 255,   0],\n",
       "        [  0,   0,   0]],\n",
       "\n",
       "       [[  0,   0,   0],\n",
       "        [  0,   0, 255],\n",
       "        [255, 255, 255],\n",
       "        [  0,   0,   0]]])"
      ]
     },
     "execution_count": 194,
     "metadata": {},
     "output_type": "execute_result"
    }
   ],
   "source": [
    "# 2.1.5 multi-array.\n",
    "import numpy as np\n",
    "\n",
    "def func(i, j):\n",
    "    return i * 10 + j\n",
    "a = np.fromfunction(func, (6, 6))\n",
    "a[0, 3:5]\n",
    "# a[4:, 4:]\n",
    "# a[:, 2]\n",
    "# a[2::2, ::2]\n",
    "\n",
    "# x = 1\n",
    "# y = 2\n",
    "# x, y = y, x\n",
    "# x, y\n",
    "\n",
    "# a = np.arange(0, 60, 10).reshape(-1, 1) + np.arange(0, 6)\n",
    "# a\n",
    "\n",
    "b = a[0, 3:5]\n",
    "b[0] = -b[0]\n",
    "a\n",
    "\n",
    "idx = slice(None, None, 2), slice(2, None)\n",
    "a[idx][idx]\n",
    "a[idx]\n",
    "a[:, 2]\n",
    "a[slice(None), 2]\n",
    "\n",
    "#Index expression\n",
    "np.s_[::2, 2:]\n",
    "\n",
    "a[(0, 1, 2, 3), (1, 2, 3, 4)]\n",
    "a[3:, [0, 2, 5]]\n",
    "\n",
    "mask = np.array([1, 0, 1, 0, 0, 1], dtype=np.bool)\n",
    "a[mask, 2]\n",
    "\n",
    "mask1 = np.array([1, 0, 1, 0, 0, 1])\n",
    "mask2 = [True, False, True, False, False, True]\n",
    "\n",
    "a[mask2, 2]\n",
    "a[[1, 2], :]\n",
    "a[[[1, 2]]]\n",
    "\n",
    "x = np.array([[0,1], [2,3]])\n",
    "y = np.array([[-1, -2], [-3,-4]])\n",
    "a[x,y]\n",
    "\n",
    "a[(0, 1, 2, 3), (-1, -2, -3, -4)].reshape(2, 2)\n",
    "\n",
    "a[x]\n",
    "\n",
    "palette = np.array([\n",
    "    [0, 0, 0],\n",
    "    [255, 0, 0],\n",
    "    [0, 255, 0],\n",
    "    [0, 0, 255],\n",
    "    [255, 255, 255]\n",
    "])\n",
    "\n",
    "image = np.array([[0, 1, 2, 0],\n",
    "                [0, 3, 4, 0]])\n",
    "\n",
    "palette[image]"
   ]
  },
  {
   "cell_type": "code",
   "execution_count": 233,
   "metadata": {},
   "outputs": [
    {
     "data": {
      "text/plain": [
       "  C_CONTIGUOUS : False\n",
       "  F_CONTIGUOUS : True\n",
       "  OWNDATA : True\n",
       "  WRITEABLE : True\n",
       "  ALIGNED : True\n",
       "  UPDATEIFCOPY : False"
      ]
     },
     "execution_count": 233,
     "metadata": {},
     "output_type": "execute_result"
    }
   ],
   "source": [
    "# 2.1.6 structure array\n",
    "import numpy as np\n",
    "\n",
    "persontype = np.dtype({\n",
    "    'names': ['name', 'age', 'weight'],\n",
    "    'formats': ['S30', 'i', 'f']}, align = True)\n",
    "\n",
    "a = np.array([(\"Zhang\", 32, 75.5), (\"Wang\", 24, 65.2)], dtype=persontype)\n",
    "\n",
    "# S30 30 bypes char, f = np.float32, i = np.int32\n",
    "\n",
    "a.dtype\n",
    "\n",
    "a[0].dtype\n",
    "a[0][\"name\"]\n",
    "\n",
    "c = a[1]\n",
    "c[\"name\"] = \"Li\"\n",
    "a\n",
    "b=a[\"name\"]\n",
    "b\n",
    "\n",
    "#print a[0][\"age\"]\n",
    "#a.tostring()\n",
    "#a.tofile(\"test.bin\")\n",
    "\n",
    "np.dtype([('f1', [('f2', np.int16)])])\n",
    "\n",
    "np.dtype([('f0', 'i4'), ('f1', 'f8', (2, 3))])\n",
    "\n",
    "# a = np.dtype({'surname':('S35', 0), 'age':(np.uint8, 25)})\n",
    "\n",
    "# a = np.array(([[1, 2, 3], [4, 5, 6], [7, 8, 9]]), dtype=np.float32)\n",
    "# a.strides\n",
    "# b= a[::2, ::2]\n",
    "# b.strides\n",
    "\n"
   ]
  },
  {
   "cell_type": "code",
   "execution_count": 245,
   "metadata": {},
   "outputs": [
    {
     "name": "stdout",
     "output_type": "stream",
     "text": [
      "[[1078523331 1065353216]\n",
      " [1073741824 1077936128]\n",
      " [1082130432 1084227584]]\n",
      "[[195 245  72  64   0   0 128  63]\n",
      " [  0   0   0  64   0   0  64  64]\n",
      " [  0   0 128  64   0   0 160  64]]\n"
     ]
    }
   ],
   "source": [
    "# 2.1.7 memory structure.\n",
    "import numpy as np\n",
    "\n",
    "# a = np.array([[0, 1, 2], [3, 4, 5], [6, 7, 8]], dtype=np.float32)\n",
    "# a.strides\n",
    "\n",
    "# a.flags\n",
    "# b = a[::2, ::2]\n",
    "# a.T.flags\n",
    "\n",
    "a = np.array([[0, 1], [2, 3], [4, 5]], dtype=np.float32)\n",
    "\n",
    "b = a.view(np.uint32)\n",
    "c = a.view(np.uint8)\n",
    "a[0][0] = 3.14\n",
    "print b\n",
    "print c\n"
   ]
  },
  {
   "cell_type": "code",
   "execution_count": 262,
   "metadata": {},
   "outputs": [
    {
     "name": "stdout",
     "output_type": "stream",
     "text": [
      "Overwriting q_rsqrt.c\n"
     ]
    }
   ],
   "source": [
    "%%file q_rsqrt.c\n",
    "\n",
    "#include <stdio.h>\n",
    "\n",
    "float Q_rsqrt(float number) {\n",
    "    long i;\n",
    "    float x2, y;\n",
    "    float threehalfs = 1.5f;\n",
    "    \n",
    "    x2 = number * 0.5f;\n",
    "    y = number;\n",
    "    i = *(long*)&y;\n",
    "    i = 0x5f3759df - (i >> 1);\n",
    "    y = *(float*)&i;\n",
    "    y = y*(threehalfs - (x2*y*y));\n",
    "    return y;\n",
    "}\n",
    "\n",
    "int main() {\n",
    "    printf(\"%f\\n\", Q_rsqrt(2.0f));\n",
    "    return 0;\n",
    "}"
   ]
  },
  {
   "cell_type": "code",
   "execution_count": 263,
   "metadata": {},
   "outputs": [],
   "source": [
    "!gcc q_rsqrt.c -o q_rsqrt"
   ]
  },
  {
   "cell_type": "code",
   "execution_count": 265,
   "metadata": {},
   "outputs": [
    {
     "name": "stdout",
     "output_type": "stream",
     "text": [
      "0.706930\r\n"
     ]
    }
   ],
   "source": [
    "!./q_rsqrt"
   ]
  },
  {
   "cell_type": "code",
   "execution_count": 280,
   "metadata": {},
   "outputs": [
    {
     "data": {
      "text/plain": [
       "array([[ 0,  1, 20],\n",
       "       [ 1, 20,  3],\n",
       "       [20,  3,  4],\n",
       "       [ 3,  4,  5]])"
      ]
     },
     "execution_count": 280,
     "metadata": {},
     "output_type": "execute_result"
    }
   ],
   "source": [
    "import numpy as np\n",
    "\n",
    "number = np.linspace(0.1, 10, 100)\n",
    "number.dtype\n",
    "y = number.astype(np.float32)\n",
    "x2 = y * 0.5\n",
    "i = y.view(np.int32)\n",
    "i[:] = 0x5f3759df - (i >> 1)\n",
    "y = y * (1.5 - x2 * y * y)\n",
    "np.max(np.abs(1/np.sqrt(number) - y))\n",
    "\n",
    "from numpy.lib.stride_tricks import as_strided\n",
    "a = np.arange(6)\n",
    "b = as_strided(a, shape=(4, 3), strides=(8, 8))\n",
    "a[2] = 20\n",
    "b\n"
   ]
  },
  {
   "cell_type": "code",
   "execution_count": null,
   "metadata": {
    "collapsed": true
   },
   "outputs": [],
   "source": []
  }
 ],
 "metadata": {
  "kernelspec": {
   "display_name": "Python 2",
   "language": "python",
   "name": "python2"
  },
  "language_info": {
   "codemirror_mode": {
    "name": "ipython",
    "version": 2
   },
   "file_extension": ".py",
   "mimetype": "text/x-python",
   "name": "python",
   "nbconvert_exporter": "python",
   "pygments_lexer": "ipython2",
   "version": "2.7.13"
  }
 },
 "nbformat": 4,
 "nbformat_minor": 2
}
