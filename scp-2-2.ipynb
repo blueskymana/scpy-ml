{
 "cells": [
  {
   "cell_type": "code",
   "execution_count": 10,
   "metadata": {},
   "outputs": [
    {
     "name": "stdout",
     "output_type": "stream",
     "text": [
      "5.0 <type 'float'> <type 'numpy.float64'>\n"
     ]
    }
   ],
   "source": [
    "# 2.2 introduction\n",
    "\n",
    "import numpy as np\n",
    "\n",
    "x = np.linspace(0, 2*np.pi, 10)\n",
    "t = np.sin(x, out=x)\n",
    "t is x\n",
    "x\n",
    "\n",
    "import math\n",
    "\n",
    "x = [i * 0.001 for i in xrange(1000000)]\n",
    "\n",
    "def sin_math(x):\n",
    "    for i, t in enumerate(x):\n",
    "        x[i] = math.sin(t)\n",
    "        \n",
    "def sin_numpy(x):\n",
    "    np.sin(x, x)\n",
    "    \n",
    "def sin_numpy_loop(x):\n",
    "    for i, t in enumerate(x):\n",
    "        x[i] = np.sin(t)\n",
    "        \n",
    "# #xl = x[:]\n",
    "# %time sin_math(x)\n",
    "# xa = np.array(x)\n",
    "# %time sin_numpy(xa)\n",
    "\n",
    "# #xl = x[:]\n",
    "# %time sin_numpy_loop(x)\n",
    "\n",
    "a = np.arange(6.0).reshape(2, 3)\n",
    "print a.item(1, 2), type(a.item(1, 2)), type(a[1, 2])\n"
   ]
  },
  {
   "cell_type": "code",
   "execution_count": 24,
   "metadata": {},
   "outputs": [
    {
     "name": "stdout",
     "output_type": "stream",
     "text": [
      "a; [0 1 2 3]\n",
      "b: [1 2 3 4]\n"
     ]
    },
    {
     "data": {
      "text/plain": [
       "array([ True, False, False], dtype=bool)"
      ]
     },
     "execution_count": 24,
     "metadata": {},
     "output_type": "execute_result"
    }
   ],
   "source": [
    "# 2.2.1 Four Arithmetic Operation\n",
    "import numpy as np\n",
    "\n",
    "a = np.arange(0, 4)\n",
    "b = np.arange(1, 5)\n",
    "# print 'a;', a\n",
    "# print 'b:', b\n",
    "# y = a + b\n",
    "y = np.arange(4)\n",
    "np.add(a, b, y)\n",
    "y"
   ]
  },
  {
   "cell_type": "code",
   "execution_count": 35,
   "metadata": {},
   "outputs": [
    {
     "name": "stdout",
     "output_type": "stream",
     "text": [
      "[False False  True False False]\n",
      "[False False False  True  True]\n",
      "[False False  True  True  True]\n",
      "[False False  True  True  True]\n"
     ]
    },
    {
     "data": {
      "text/plain": [
       "array([255, 254, 253, 252, 251], dtype=uint8)"
      ]
     },
     "execution_count": 35,
     "metadata": {},
     "output_type": "execute_result"
    }
   ],
   "source": [
    "# 2.2.2 Comparsion and bool operation\n",
    "\n",
    "# add subtract multiply divide true_divide floor_divide negative power remainder mod\n",
    "\n",
    "np.array([1, 2, 3]) < np.array([3, 2, 1])\n",
    "\n",
    "# equal not_equal less less_equal greater greater_equal\n",
    "\n",
    "# and or not\n",
    "# np.logical_and np.logical_or np.logical_not np.logical_xor\n",
    "\n",
    "a = np.arange(5)\n",
    "b = np.arange(4, -1, -1)\n",
    "print a == b\n",
    "print a > b\n",
    "print np.logical_or (a==b, a > b)\n",
    "print a >= b \n",
    "\n",
    "np.any(a == b) and np.all(a > b)\n",
    "\n",
    "(a == b) | (a > b)\n",
    "\n",
    "~ np.arange(5)\n",
    "~ np.arange(5, dtype=np.uint8)"
   ]
  },
  {
   "cell_type": "code",
   "execution_count": 46,
   "metadata": {},
   "outputs": [
    {
     "data": {
      "text/plain": [
       "True"
      ]
     },
     "execution_count": 46,
     "metadata": {},
     "output_type": "execute_result"
    }
   ],
   "source": [
    "# 2.2.3 self-defination universal function.\n",
    "\n",
    "import numpy as np\n",
    "\n",
    "def triangle_wave(x, c, c0, hc):\n",
    "    x = x - int(x)\n",
    "    if x >= c: r = 0.0\n",
    "    elif x < c0: r = x / c0 * hc\n",
    "    else: r = (c-x) / (c-c0) * hc\n",
    "    return r\n",
    "\n",
    "x = np.linspace(0, 2, 1000)\n",
    "y1 = np.array([triangle_wave(t, 0.6, 0.4, 1.0) for t in x])\n",
    "\n",
    "triangle_ufunc1 = np.frompyfunc(triangle_wave, 4, 1)\n",
    "y2 = triangle_ufunc1(x, 0.6, 0.4, 1.0)\n",
    "y2.dtype\n",
    "y2.astype(np.float).dtype\n",
    "\n",
    "triangle_ufunc2 = np.vectorize(triangle_wave, otypes=[np.float])\n",
    "y3 = triangle_ufunc2(x, 0.6, 0.4, 1.0)\n",
    "y3\n",
    "np.all(y1 == y2) and np.all(y2 == y3)\n"
   ]
  },
  {
   "cell_type": "code",
   "execution_count": 77,
   "metadata": {},
   "outputs": [
    {
     "data": {
      "text/plain": [
       "array([[ 2,  3,  6, 12],\n",
       "       [ 3,  4,  7, 13],\n",
       "       [ 8,  9, 12, 18]])"
      ]
     },
     "execution_count": 77,
     "metadata": {},
     "output_type": "execute_result"
    }
   ],
   "source": [
    "# 2.2.4 broadcase\n",
    "import numpy as np\n",
    "\n",
    "a = np.arange(0, 60, 10).reshape(-1, 1)\n",
    "a\n",
    "a.shape\n",
    "b = np.arange(0, 5)\n",
    "b\n",
    "b.shape\n",
    "c = a + b\n",
    "c\n",
    "b.shape = 1, 5\n",
    "b.shape\n",
    "b = b.repeat(6, axis = 0)\n",
    "b\n",
    "a = a.repeat(5, axis=1)\n",
    "a\n",
    "# x, y = np.ogrid[:5, :5]\n",
    "# x\n",
    "# y\n",
    "# x, y = np.mgrid[:5, :5]\n",
    "# x\n",
    "# y\n",
    "x, y = np.ogrid[:1:4j, :1:3j]\n",
    "x\n",
    "y\n",
    "\n",
    "x, y = np.ogrid[-2:2:20j, -2:2:20j]\n",
    "z = x*np.exp(-x**2 - y**2)\n",
    "\n",
    "a = np.arange(4)\n",
    "a[None, :]\n",
    "a[:, None]\n",
    "\n",
    "x = np.array([0, 1, 4, 10])\n",
    "y = np.array([2, 3, 8])\n",
    "x[None, :] + y[:, None]\n",
    "\n",
    "gy, gx = np.ix_(y, x)\n",
    "gy\n",
    "gx+gy"
   ]
  },
  {
   "cell_type": "code",
   "execution_count": 94,
   "metadata": {},
   "outputs": [
    {
     "data": {
      "text/plain": [
       "array([[ 2,  3,  4],\n",
       "       [ 4,  6,  8],\n",
       "       [ 6,  9, 12],\n",
       "       [ 8, 12, 16],\n",
       "       [10, 15, 20]])"
      ]
     },
     "execution_count": 94,
     "metadata": {},
     "output_type": "execute_result"
    }
   ],
   "source": [
    "# ufunc method\n",
    "import numpy as np\n",
    "\n",
    "r1 = np.add.reduce([1, 2, 3])\n",
    "r1\n",
    "r2 = np.add.reduce([[1, 2, 3], [4, 5, 6]], axis=1)\n",
    "r2\n",
    "\n",
    "a1 = np.add.accumulate([1, 2, 3])\n",
    "a1\n",
    "a2 = np.add.accumulate([[1, 2, 3], [4, 5, 6]], axis=1)\n",
    "a2\n",
    "\n",
    "a = np.array([1, 2, 3, 4])\n",
    "result = np.add.reduceat(a, indices=[0, 1, 0, 2, 0, 3, 0])\n",
    "result\n",
    "\n",
    "result[1::2]\n",
    "np.add.accumulate(a)\n",
    "result[::2]\n",
    "\n",
    "np.multiply.outer([1, 2, 3, 4, 5], [2, 3, 4])"
   ]
  },
  {
   "cell_type": "code",
   "execution_count": null,
   "metadata": {
    "collapsed": true
   },
   "outputs": [],
   "source": []
  }
 ],
 "metadata": {
  "kernelspec": {
   "display_name": "Python 2",
   "language": "python",
   "name": "python2"
  },
  "language_info": {
   "codemirror_mode": {
    "name": "ipython",
    "version": 2
   },
   "file_extension": ".py",
   "mimetype": "text/x-python",
   "name": "python",
   "nbconvert_exporter": "python",
   "pygments_lexer": "ipython2",
   "version": "2.7.13"
  }
 },
 "nbformat": 4,
 "nbformat_minor": 2
}
